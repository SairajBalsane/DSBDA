{
 "cells": [
  {
   "cell_type": "code",
   "execution_count": 31,
   "id": "cfc11429-1951-49be-80d4-16b6e9a9b1b0",
   "metadata": {},
   "outputs": [],
   "source": [
    "import pandas as pd"
   ]
  },
  {
   "cell_type": "code",
   "execution_count": 33,
   "id": "74c31799-a84c-442a-bba0-732a343cb0ab",
   "metadata": {},
   "outputs": [],
   "source": [
    "import numpy as np"
   ]
  },
  {
   "cell_type": "code",
   "execution_count": 35,
   "id": "e59e0e77-43ff-4f4f-ae11-2ad2f6720c53",
   "metadata": {},
   "outputs": [],
   "source": [
    "import seaborn as sns"
   ]
  },
  {
   "cell_type": "code",
   "execution_count": 37,
   "id": "3bef76dd-14a7-432a-9977-abdda7249372",
   "metadata": {},
   "outputs": [],
   "source": [
    "df = pd.read_csv('iris.csv')"
   ]
  },
  {
   "cell_type": "code",
   "execution_count": 39,
   "id": "9fb2a10a-53dd-421c-a07d-b53d64d0ac84",
   "metadata": {},
   "outputs": [],
   "source": [
    "description = \"\"\"\n",
    "The Iris dataset is one of the most famous datasets used in machine learning and data science. \n",
    "It consists of 150 samples from three species of Iris flowers (Iris-setosa, Iris-versicolor, and Iris-virginica).\n",
    "The dataset contains four features (sepal length, sepal width, petal length, and petal width) and the target label, which is the species of the flower.\n",
    "Source: https://archive.ics.uci.edu/ml/datasets/Iris\n",
    "\"\"\""
   ]
  },
  {
   "cell_type": "code",
   "execution_count": 41,
   "id": "82e08a9c-c9a9-4bd4-a641-179b9d628663",
   "metadata": {},
   "outputs": [
    {
     "name": "stdout",
     "output_type": "stream",
     "text": [
      "\n",
      "The Iris dataset is one of the most famous datasets used in machine learning and data science. \n",
      "It consists of 150 samples from three species of Iris flowers (Iris-setosa, Iris-versicolor, and Iris-virginica).\n",
      "The dataset contains four features (sepal length, sepal width, petal length, and petal width) and the target label, which is the species of the flower.\n",
      "Source: https://archive.ics.uci.edu/ml/datasets/Iris\n",
      "\n"
     ]
    }
   ],
   "source": [
    "print(description)"
   ]
  },
  {
   "cell_type": "code",
   "execution_count": 43,
   "id": "1e742a40-52a3-46be-97b3-8d8ac63cf12f",
   "metadata": {},
   "outputs": [
    {
     "name": "stdout",
     "output_type": "stream",
     "text": [
      "\n",
      "Missing Values:\n",
      " sepal.length    0\n",
      "sepal.width     0\n",
      "petal.length    0\n",
      "petal.width     0\n",
      "type            0\n",
      "dtype: int64\n"
     ]
    }
   ],
   "source": [
    "print(\"\\nMissing Values:\\n\", df.isnull().sum())"
   ]
  },
  {
   "cell_type": "code",
   "execution_count": 45,
   "id": "9c5f3193-dfea-492e-8404-9ee2af38d644",
   "metadata": {},
   "outputs": [
    {
     "name": "stdout",
     "output_type": "stream",
     "text": [
      "\n",
      "Initial Statistics:\n",
      "        sepal.length  sepal.width  petal.length  petal.width\n",
      "count    150.000000   150.000000    150.000000   150.000000\n",
      "mean       5.843333     3.057333      3.758000     1.199333\n",
      "std        0.828066     0.435866      1.765298     0.762238\n",
      "min        4.300000     2.000000      1.000000     0.100000\n",
      "25%        5.100000     2.800000      1.600000     0.300000\n",
      "50%        5.800000     3.000000      4.350000     1.300000\n",
      "75%        6.400000     3.300000      5.100000     1.800000\n",
      "max        7.900000     4.400000      6.900000     2.500000\n"
     ]
    }
   ],
   "source": [
    "print(\"\\nInitial Statistics:\\n\", df.describe())"
   ]
  },
  {
   "cell_type": "code",
   "execution_count": 47,
   "id": "1bd3ea0f-75d4-4371-940e-8d048e88e682",
   "metadata": {},
   "outputs": [
    {
     "name": "stdout",
     "output_type": "stream",
     "text": [
      "\n",
      "Data Types:\n",
      " sepal.length    float64\n",
      "sepal.width     float64\n",
      "petal.length    float64\n",
      "petal.width     float64\n",
      "type             object\n",
      "dtype: object\n"
     ]
    }
   ],
   "source": [
    "print(\"\\nData Types:\\n\", df.dtypes)"
   ]
  },
  {
   "cell_type": "code",
   "execution_count": 49,
   "id": "4ea9da4e-cae0-41ee-a738-a39eb45acdd7",
   "metadata": {},
   "outputs": [
    {
     "name": "stdout",
     "output_type": "stream",
     "text": [
      "\n",
      "Dimensions of the DataFrame:  (150, 5)\n"
     ]
    }
   ],
   "source": [
    "print(\"\\nDimensions of the DataFrame: \", df.shape)"
   ]
  },
  {
   "cell_type": "code",
   "execution_count": 51,
   "id": "633dfdea-4787-456c-9a7b-23367624de5e",
   "metadata": {},
   "outputs": [
    {
     "name": "stdout",
     "output_type": "stream",
     "text": [
      "\n",
      "Variable Types:\n",
      "sepal.length    float64\n",
      "sepal.width     float64\n",
      "petal.length    float64\n",
      "petal.width     float64\n",
      "type             object\n",
      "dtype: object\n"
     ]
    }
   ],
   "source": [
    "print(\"\\nVariable Types:\")\n",
    "print(df.dtypes)"
   ]
  },
  {
   "cell_type": "code",
   "execution_count": 55,
   "id": "560d40d7-e008-4211-96b1-f35f8030e263",
   "metadata": {},
   "outputs": [],
   "source": [
    "df['type'] = df['type'].astype('category')"
   ]
  },
  {
   "cell_type": "code",
   "execution_count": 61,
   "id": "a1b9fce0-0e70-40b2-bf53-30003a7cd453",
   "metadata": {},
   "outputs": [
    {
     "name": "stdout",
     "output_type": "stream",
     "text": [
      "\n",
      "After Type Conversion:\n",
      " sepal.length     float64\n",
      "sepal.width      float64\n",
      "petal.length     float64\n",
      "petal.width      float64\n",
      "type            category\n",
      "type_encoded        int8\n",
      "dtype: object\n"
     ]
    }
   ],
   "source": [
    "print(\"\\nAfter Type Conversion:\\n\", df.dtypes)"
   ]
  },
  {
   "cell_type": "code",
   "execution_count": 63,
   "id": "f1090654-c7e6-4269-a0c8-21ad39304492",
   "metadata": {},
   "outputs": [],
   "source": [
    "df['type_encoded'] = df['type'].cat.codes"
   ]
  },
  {
   "cell_type": "code",
   "execution_count": 65,
   "id": "37ac4825-61ba-4719-98f4-1a4404fe3751",
   "metadata": {},
   "outputs": [
    {
     "name": "stdout",
     "output_type": "stream",
     "text": [
      "\n",
      "Updated DataFrame with Encoded Categorical Variable:\n",
      "    sepal.length  sepal.width  petal.length  petal.width    type  type_encoded\n",
      "0           5.1          3.5           1.4          0.2  Setosa             0\n",
      "1           4.9          3.0           1.4          0.2  Setosa             0\n",
      "2           4.7          3.2           1.3          0.2  Setosa             0\n",
      "3           4.6          3.1           1.5          0.2  Setosa             0\n",
      "4           5.0          3.6           1.4          0.2  Setosa             0\n"
     ]
    }
   ],
   "source": [
    "print(\"\\nUpdated DataFrame with Encoded Categorical Variable:\\n\", df.head())"
   ]
  },
  {
   "cell_type": "code",
   "execution_count": null,
   "id": "b66eb12a-bfc3-4c33-ba95-ba6141d562a7",
   "metadata": {},
   "outputs": [],
   "source": []
  }
 ],
 "metadata": {
  "kernelspec": {
   "display_name": "Python 3 (ipykernel)",
   "language": "python",
   "name": "python3"
  },
  "language_info": {
   "codemirror_mode": {
    "name": "ipython",
    "version": 3
   },
   "file_extension": ".py",
   "mimetype": "text/x-python",
   "name": "python",
   "nbconvert_exporter": "python",
   "pygments_lexer": "ipython3",
   "version": "3.12.4"
  }
 },
 "nbformat": 4,
 "nbformat_minor": 5
}
